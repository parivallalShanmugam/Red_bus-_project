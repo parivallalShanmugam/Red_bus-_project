{
 "cells": [
  {
   "cell_type": "code",
   "execution_count": null,
   "metadata": {},
   "outputs": [],
   "source": [
    "import mysql.connector"
   ]
  },
  {
   "cell_type": "code",
   "execution_count": null,
   "metadata": {},
   "outputs": [],
   "source": [
    "conn = mysql.connector.connect(host = \"127.0.0.1\",\n",
    "                               user =\"root\",\n",
    "                               password =\"Admin@123\",\n",
    "                               database = \"red_bus\",\n",
    "                               )\n",
    "\n",
    "cursor = conn.cursor()"
   ]
  },
  {
   "cell_type": "code",
   "execution_count": null,
   "metadata": {},
   "outputs": [],
   "source": [
    "create_table_query = \"\"\"CREATE TABLE bus_info_NEW (\n",
    "    id INT AUTO_INCREMENT PRIMARY KEY,\n",
    "    state TEXT,\n",
    "    route_name TEXT,\n",
    "    route_link TEXT,\n",
    "    busname TEXT,\n",
    "    bustype TEXT,\n",
    "    departing_time DATETIME,\n",
    "    duration TEXT,\n",
    "    reaching_time DATETIME,\n",
    "    star_rating FLOAT,\n",
    "    price DECIMAL(10, 2),\n",
    "    seats_available INT\n",
    ");\n",
    "\"\"\"\n",
    "\n",
    "cursor.execute(create_table_query)\n",
    "conn.commit()\n"
   ]
  },
  {
   "cell_type": "code",
   "execution_count": null,
   "metadata": {},
   "outputs": [],
   "source": [
    "select_query = \"\"\"SELECT count(*) FROM bus_info_new ;\"\"\"\n",
    "\n",
    "cursor.execute(select_query)\n",
    "results = cursor.fetchall()\n",
    "\n"
   ]
  },
  {
   "cell_type": "code",
   "execution_count": null,
   "metadata": {},
   "outputs": [],
   "source": [
    "results"
   ]
  },
  {
   "cell_type": "code",
   "execution_count": null,
   "metadata": {},
   "outputs": [],
   "source": [
    "import pandas as pd\n",
    "column_names = ['ID', 'state', 'route_name', 'route_link', 'busname', 'bustype', 'departing_time', 'duration', 'reaching_time', 'star_rating', 'price', 'seats_available']\n",
    "df = pd.DataFrame(results, columns=column_names)\n"
   ]
  },
  {
   "cell_type": "code",
   "execution_count": null,
   "metadata": {},
   "outputs": [],
   "source": [
    "df.head()"
   ]
  },
  {
   "cell_type": "code",
   "execution_count": null,
   "metadata": {},
   "outputs": [],
   "source": [
    "df.to_csv('redbus.csv')"
   ]
  }
 ],
 "metadata": {
  "kernelspec": {
   "display_name": "Python 3",
   "language": "python",
   "name": "python3"
  },
  "language_info": {
   "codemirror_mode": {
    "name": "ipython",
    "version": 3
   },
   "file_extension": ".py",
   "mimetype": "text/x-python",
   "name": "python",
   "nbconvert_exporter": "python",
   "pygments_lexer": "ipython3",
   "version": "3.12.4"
  }
 },
 "nbformat": 4,
 "nbformat_minor": 2
}
