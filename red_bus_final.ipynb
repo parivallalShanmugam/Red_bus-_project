{
 "cells": [
  {
   "cell_type": "code",
   "execution_count": 5,
   "metadata": {},
   "outputs": [
    {
     "name": "stdout",
     "output_type": "stream",
     "text": [
      "No such page\n"
     ]
    }
   ],
   "source": [
    "from selenium import webdriver\n",
    "from selenium.webdriver.common.by import By\n",
    "from selenium.webdriver.common.action_chains import ActionChains\n",
    "from selenium.webdriver.support.ui import WebDriverWait\n",
    "from selenium.webdriver.support import expected_conditions as EC\n",
    "import time\n",
    "import pandas as pd\n",
    "import mysql.connector\n",
    "import itertools\n",
    "\n",
    "driver = webdriver.Chrome()\n",
    "driver.maximize_window()\n",
    "\n",
    "driver.get(\"https://www.redbus.in/online-booking/ktcl/?utm_source=rtchometile\")\n",
    "state = \"goa\"\n",
    "time.sleep(3)\n",
    "\n",
    "wait = WebDriverWait(driver, 5)\n",
    "\n",
    "def scroll_page(n):\n",
    "    SCROLL_PAUSE_TIME = n\n",
    "\n",
    "    last_height = driver.execute_script(\"return document.body.scrollHeight\")\n",
    "\n",
    "    while True:\n",
    "        driver.execute_script(\"window.scrollTo(0, document.body.scrollHeight);\")\n",
    "\n",
    "        time.sleep(SCROLL_PAUSE_TIME)\n",
    "\n",
    "        new_height = driver.execute_script(\"return document.body.scrollHeight\")\n",
    "        if new_height == last_height:\n",
    "            break\n",
    "        last_height = new_height\n",
    "\n",
    "scroll_page(5)\n",
    "bus_route_name_list = []\n",
    "bus_route_link_list = []\n",
    "\n",
    "page_number = 1\n",
    "\n",
    "for i in range(0,4):\n",
    "\n",
    "    try:\n",
    "        bus_route_name = driver.find_elements(By.CSS_SELECTOR,\"a[class='route']\")\n",
    "        for bus in bus_route_name:    \n",
    "            bus_route_name_list.append(bus.text)\n",
    "            bus_route_link_list.append(bus.get_attribute(\"href\"))\n",
    "\n",
    "        pagination_container = driver.find_element(By.XPATH,'//*[@id=\"root\"]/div/div[4]/div[12]')\n",
    "        next_page_button = pagination_container.find_element(By.XPATH,f'.//div[contains(@class,\"DC_117_pageTabs\") and text() = \"{int(page_number) + 1}\"]')\n",
    "        \n",
    "        actions = ActionChains(driver)\n",
    "        actions.move_to_element(next_page_button).perform()\n",
    "        wait.until(EC.element_to_be_clickable(next_page_button))\n",
    "        next_page_button.click()\n",
    "        page_number += 1\n",
    "\n",
    "        time.sleep(2)\n",
    "\n",
    "    except:\n",
    "        print(\"No such page\") \n",
    "      "
   ]
  },
  {
   "cell_type": "code",
   "execution_count": 6,
   "metadata": {},
   "outputs": [
    {
     "data": {
      "text/plain": [
       "[<selenium.webdriver.remote.webelement.WebElement (session=\"baae673e96654be3557faa48745cf1c7\", element=\"f.6758FB636CB89D443DE0890D02FEB390.d.251DC9047162BDF35FD2C0712C2BF6B7.e.44\")>,\n",
       " <selenium.webdriver.remote.webelement.WebElement (session=\"baae673e96654be3557faa48745cf1c7\", element=\"f.6758FB636CB89D443DE0890D02FEB390.d.251DC9047162BDF35FD2C0712C2BF6B7.e.45\")>,\n",
       " <selenium.webdriver.remote.webelement.WebElement (session=\"baae673e96654be3557faa48745cf1c7\", element=\"f.6758FB636CB89D443DE0890D02FEB390.d.251DC9047162BDF35FD2C0712C2BF6B7.e.46\")>,\n",
       " <selenium.webdriver.remote.webelement.WebElement (session=\"baae673e96654be3557faa48745cf1c7\", element=\"f.6758FB636CB89D443DE0890D02FEB390.d.251DC9047162BDF35FD2C0712C2BF6B7.e.47\")>,\n",
       " <selenium.webdriver.remote.webelement.WebElement (session=\"baae673e96654be3557faa48745cf1c7\", element=\"f.6758FB636CB89D443DE0890D02FEB390.d.251DC9047162BDF35FD2C0712C2BF6B7.e.48\")>,\n",
       " <selenium.webdriver.remote.webelement.WebElement (session=\"baae673e96654be3557faa48745cf1c7\", element=\"f.6758FB636CB89D443DE0890D02FEB390.d.251DC9047162BDF35FD2C0712C2BF6B7.e.49\")>,\n",
       " <selenium.webdriver.remote.webelement.WebElement (session=\"baae673e96654be3557faa48745cf1c7\", element=\"f.6758FB636CB89D443DE0890D02FEB390.d.251DC9047162BDF35FD2C0712C2BF6B7.e.50\")>,\n",
       " <selenium.webdriver.remote.webelement.WebElement (session=\"baae673e96654be3557faa48745cf1c7\", element=\"f.6758FB636CB89D443DE0890D02FEB390.d.251DC9047162BDF35FD2C0712C2BF6B7.e.51\")>,\n",
       " <selenium.webdriver.remote.webelement.WebElement (session=\"baae673e96654be3557faa48745cf1c7\", element=\"f.6758FB636CB89D443DE0890D02FEB390.d.251DC9047162BDF35FD2C0712C2BF6B7.e.52\")>,\n",
       " <selenium.webdriver.remote.webelement.WebElement (session=\"baae673e96654be3557faa48745cf1c7\", element=\"f.6758FB636CB89D443DE0890D02FEB390.d.251DC9047162BDF35FD2C0712C2BF6B7.e.53\")>]"
      ]
     },
     "execution_count": 6,
     "metadata": {},
     "output_type": "execute_result"
    }
   ],
   "source": [
    "bus_route_name"
   ]
  },
  {
   "cell_type": "code",
   "execution_count": 2,
   "metadata": {},
   "outputs": [],
   "source": [
    "bus_route_link_list = bus_route_link_list[:2]"
   ]
  },
  {
   "cell_type": "code",
   "execution_count": 3,
   "metadata": {},
   "outputs": [],
   "source": [
    "state_list = []\n",
    "bus_route_list = []\n",
    "bus_r_link_list = []\n",
    "bus_name_list = []\n",
    "bustype_list = []  \n",
    "departing_time_list = []\n",
    "duration_list = []\n",
    "reaching_time_list = []\n",
    "star_rating_list = []\n",
    "price_list = []\n",
    "seat_available_list = []\n",
    "\n",
    "for i,link in enumerate (bus_route_link_list):\n",
    "\n",
    "    bus_route_index = int(i)\n",
    "    driver.get(link)\n",
    "\n",
    "    time.sleep(3)\n",
    "\n",
    "    wait = WebDriverWait(driver, 5)\n",
    "\n",
    "    buttons_xpath = '//div[contains(@class, \"clearfix\")]/div[contains(@class, \"w-14\")]/div[contains(@class, \"button\")]'\n",
    "    buttons = driver.find_elements(By.XPATH, buttons_xpath)\n",
    "\n",
    "    actions = ActionChains(driver)\n",
    "    buttons = buttons[0:2]\n",
    "\n",
    "    for button in buttons:\n",
    "        actions.move_to_element(button).perform()\n",
    "        wait.until(EC.element_to_be_clickable(button))\n",
    "        actions.click(button).perform()\n",
    "        time.sleep(2)  \n",
    "\n",
    "        scroll_page(5)\n",
    "\n",
    "    scroll_page(2)\n",
    "\n",
    "    elements = driver.find_elements(By.CSS_SELECTOR, '.clearfix.row-one')\n",
    "\n",
    "    for element in elements:\n",
    "        state_list.append(state)\n",
    "        bus_route_list.append(bus_route_name_list[bus_route_index])\n",
    "        bus_r_link_list.append(link)\n",
    "        bus_name_list.append(element.find_element(By.CSS_SELECTOR, '.travels').text.strip())\n",
    "        bustype_list.append(element.find_element(By.CSS_SELECTOR, '.bus-type').text.strip())\n",
    "        departing_time_list.append(element.find_element(By.CSS_SELECTOR, '.dp-time').text.strip())\n",
    "        duration_list.append(element.find_element(By.CSS_SELECTOR, '.dur').text.strip())\n",
    "        reaching_time_list.append(element.find_element(By.CSS_SELECTOR, '.bp-time').text.strip())\n",
    "        rating_text = element.find_element(By.CSS_SELECTOR, '.column-six.p-right-10.w-10.fl').text\n",
    "        if rating_text == ' ' or rating_text == 'New':\n",
    "            star_rating_list.append(\"0.0\")\n",
    "        else:\n",
    "            star_rating_list.append(rating_text[:3])\n",
    "        price_list.append(element.find_element(By.CSS_SELECTOR, '.fare span.f-19.f-bold').text.strip())\n",
    "        seat_available_list.append(element.find_element(By.CSS_SELECTOR, '.seat-left').text.split()[0].strip())\n"
   ]
  },
  {
   "cell_type": "code",
   "execution_count": 86,
   "metadata": {},
   "outputs": [
    {
     "name": "stderr",
     "output_type": "stream",
     "text": [
      "C:\\Users\\New\\AppData\\Local\\Temp\\ipykernel_25072\\4291449401.py:13: UserWarning: Could not infer format, so each element will be parsed individually, falling back to `dateutil`. To ensure parsing is consistent and as-expected, please specify a format.\n",
      "  df['departing_time'] = pd.to_datetime(df['departing_time']).dt.strftime('%Y-%m-%d %H:%M:%S')\n",
      "C:\\Users\\New\\AppData\\Local\\Temp\\ipykernel_25072\\4291449401.py:14: UserWarning: Could not infer format, so each element will be parsed individually, falling back to `dateutil`. To ensure parsing is consistent and as-expected, please specify a format.\n",
      "  df['reaching_time'] = pd.to_datetime(df['reaching_time']).dt.strftime('%Y-%m-%d %H:%M:%S')\n"
     ]
    }
   ],
   "source": [
    "df = pd.DataFrame({'state':state_list,\n",
    "                    'route_name':bus_route_list,\n",
    "                    'route_link':bus_r_link_list,\n",
    "                    'busname':bus_name_list,\n",
    "                    'bustype':bustype_list,\n",
    "                    'departing_time':departing_time_list,\n",
    "                    'duration':duration_list,\n",
    "                    'reaching_time':reaching_time_list,\n",
    "                    'star_rating':star_rating_list,\n",
    "                    'price':price_list,\n",
    "                    'seats_available':seat_available_list})\n",
    "\n",
    "df['departing_time'] = pd.to_datetime(df['departing_time']).dt.strftime('%Y-%m-%d %H:%M:%S')\n",
    "df['reaching_time'] = pd.to_datetime(df['reaching_time']).dt.strftime('%Y-%m-%d %H:%M:%S')\n",
    "\n",
    "df.to_csv(\"wbtc.csv\")\n",
    "\n",
    "conn = mysql.connector.connect(host = \"127.0.0.1\",\n",
    "                               user =\"root\",\n",
    "                               password =\"Admin@123\",\n",
    "                               database = \"red_bus\",\n",
    "                               )\n",
    "\n",
    "cursor = conn.cursor()\n",
    "\n",
    "insert_query = \"\"\"INSERT INTO bus_info_NEW (\n",
    "            state,\n",
    "            route_name,\n",
    "            route_link,\n",
    "            busname,\n",
    "            bustype, \n",
    "            departing_time, \n",
    "            duration,\n",
    "            reaching_time, \n",
    "            star_rating, \n",
    "            price,\n",
    "            seats_available\n",
    ") VALUES (%s, %s, %s, %s, %s, %s, %s, %s,%s,%s,%s)\"\"\"\n",
    "\n",
    "for index, row in df.iterrows():\n",
    "    cursor.execute(insert_query, (\n",
    "        row['state'],\n",
    "        row['route_name'],\n",
    "        row['route_link'],\n",
    "        row['busname'],\n",
    "        row['bustype'],\n",
    "        row['departing_time'],\n",
    "        row['duration'],\n",
    "        row['reaching_time'],\n",
    "        row['star_rating'],\n",
    "        row['price'],\n",
    "        row['seats_available']\n",
    "))\n",
    "conn.commit()        "
   ]
  },
  {
   "cell_type": "code",
   "execution_count": null,
   "metadata": {},
   "outputs": [],
   "source": []
  },
  {
   "cell_type": "code",
   "execution_count": 87,
   "metadata": {},
   "outputs": [
    {
     "data": {
      "text/plain": [
       "[('KTCL',),\n",
       " ('APSRTC',),\n",
       " ('KSRTC (Kerala)',),\n",
       " ('TSRTC',),\n",
       " ('SBSTC',),\n",
       " ('RSRTC',),\n",
       " ('HRTC',),\n",
       " ('ASTC',),\n",
       " ('UPSRTC',),\n",
       " ('WBTC',)]"
      ]
     },
     "execution_count": 87,
     "metadata": {},
     "output_type": "execute_result"
    }
   ],
   "source": [
    "state_query  = \"\"\"select distinct state from bus_info_new;\"\"\"\n",
    "cursor.execute(state_query)\n",
    "cursor.fetchall()"
   ]
  }
 ],
 "metadata": {
  "kernelspec": {
   "display_name": "Python 3",
   "language": "python",
   "name": "python3"
  },
  "language_info": {
   "codemirror_mode": {
    "name": "ipython",
    "version": 3
   },
   "file_extension": ".py",
   "mimetype": "text/x-python",
   "name": "python",
   "nbconvert_exporter": "python",
   "pygments_lexer": "ipython3",
   "version": "3.12.4"
  }
 },
 "nbformat": 4,
 "nbformat_minor": 2
}
